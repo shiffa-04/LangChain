{
  "nbformat": 4,
  "nbformat_minor": 0,
  "metadata": {
    "colab": {
      "provenance": [],
      "authorship_tag": "ABX9TyP0mG36jEBCI2LMP0Z5hX3o",
      "include_colab_link": true
    },
    "kernelspec": {
      "name": "python3",
      "display_name": "Python 3"
    },
    "language_info": {
      "name": "python"
    }
  },
  "cells": [
    {
      "cell_type": "markdown",
      "metadata": {
        "id": "view-in-github",
        "colab_type": "text"
      },
      "source": [
        "<a href=\"https://colab.research.google.com/github/shiffa-04/LangChain/blob/main/RAG.ipynb\" target=\"_parent\"><img src=\"https://colab.research.google.com/assets/colab-badge.svg\" alt=\"Open In Colab\"/></a>"
      ]
    },
    {
      "cell_type": "code",
      "execution_count": null,
      "metadata": {
        "id": "cN5iEgQfbrEG"
      },
      "outputs": [],
      "source": [
        "pip install langchain"
      ]
    },
    {
      "cell_type": "code",
      "source": [
        "%%capture --no-stderr\n",
        "%pip install --upgrade --quiet  langchain langchain-community langchainhub langchain-chroma beautifulsoup4"
      ],
      "metadata": {
        "id": "9q4xJ1Lmdslf"
      },
      "execution_count": null,
      "outputs": []
    },
    {
      "cell_type": "code",
      "source": [
        "pip install -qU langchain-openai"
      ],
      "metadata": {
        "id": "UlQugFo5dDQS",
        "colab": {
          "base_uri": "https://localhost:8080/"
        },
        "outputId": "d986fca6-66af-42e8-87f0-e9a77d023307"
      },
      "execution_count": null,
      "outputs": [
        {
          "output_type": "stream",
          "name": "stdout",
          "text": [
            "\u001b[?25l   \u001b[90m━━━━━━━━━━━━━━━━━━━━━━━━━━━━━━━━━━━━━━━━\u001b[0m \u001b[32m0.0/52.0 kB\u001b[0m \u001b[31m?\u001b[0m eta \u001b[36m-:--:--\u001b[0m\r\u001b[2K   \u001b[90m━━━━━━━━━━━━━━━━━━━━━━━━━━━━━━━━━━━━━━━━\u001b[0m \u001b[32m52.0/52.0 kB\u001b[0m \u001b[31m2.2 MB/s\u001b[0m eta \u001b[36m0:00:00\u001b[0m\n",
            "\u001b[?25h\u001b[?25l   \u001b[90m━━━━━━━━━━━━━━━━━━━━━━━━━━━━━━━━━━━━━━━━\u001b[0m \u001b[32m0.0/362.9 kB\u001b[0m \u001b[31m?\u001b[0m eta \u001b[36m-:--:--\u001b[0m\r\u001b[2K   \u001b[91m━━━━━━━━━━━━━━━━━━━━━━━━━━━━━━━━━━━━━━━\u001b[0m\u001b[91m╸\u001b[0m \u001b[32m358.4/362.9 kB\u001b[0m \u001b[31m12.7 MB/s\u001b[0m eta \u001b[36m0:00:01\u001b[0m\r\u001b[2K   \u001b[90m━━━━━━━━━━━━━━━━━━━━━━━━━━━━━━━━━━━━━━━━\u001b[0m \u001b[32m362.9/362.9 kB\u001b[0m \u001b[31m9.3 MB/s\u001b[0m eta \u001b[36m0:00:00\u001b[0m\n",
            "\u001b[?25h\u001b[?25l   \u001b[90m━━━━━━━━━━━━━━━━━━━━━━━━━━━━━━━━━━━━━━━━\u001b[0m \u001b[32m0.0/1.1 MB\u001b[0m \u001b[31m?\u001b[0m eta \u001b[36m-:--:--\u001b[0m\r\u001b[2K   \u001b[90m━━━━━━━━━━━━━━━━━━━━━━━━━━━━━━━━━━━━━━━━\u001b[0m \u001b[32m1.1/1.1 MB\u001b[0m \u001b[31m31.9 MB/s\u001b[0m eta \u001b[36m0:00:00\u001b[0m\n",
            "\u001b[?25h\u001b[?25l   \u001b[90m━━━━━━━━━━━━━━━━━━━━━━━━━━━━━━━━━━━━━━━━\u001b[0m \u001b[32m0.0/318.9 kB\u001b[0m \u001b[31m?\u001b[0m eta \u001b[36m-:--:--\u001b[0m\r\u001b[2K   \u001b[90m━━━━━━━━━━━━━━━━━━━━━━━━━━━━━━━━━━━━━━━━\u001b[0m \u001b[32m318.9/318.9 kB\u001b[0m \u001b[31m20.5 MB/s\u001b[0m eta \u001b[36m0:00:00\u001b[0m\n",
            "\u001b[?25h"
          ]
        }
      ]
    },
    {
      "cell_type": "code",
      "source": [
        "pip install pymupdf\n"
      ],
      "metadata": {
        "id": "_Kdxe_cj0e2Y"
      },
      "execution_count": null,
      "outputs": []
    },
    {
      "cell_type": "code",
      "source": [
        "import getpass\n",
        "import os\n",
        "\n",
        "os.environ[\"LANGCHAIN_TRACING_V2\"] = \"true\"\n",
        "os.environ[\"LANGCHAIN_API_KEY\"] = getpass.getpass()"
      ],
      "metadata": {
        "colab": {
          "base_uri": "https://localhost:8080/"
        },
        "id": "KTFJpJRJcxQz",
        "outputId": "faac791f-cf64-4aa6-a853-60c0192afa5d"
      },
      "execution_count": null,
      "outputs": [
        {
          "name": "stdout",
          "output_type": "stream",
          "text": [
            "··········\n"
          ]
        }
      ]
    },
    {
      "cell_type": "code",
      "source": [
        "import getpass\n",
        "import os\n",
        "\n",
        "os.environ[\"OPENAI_API_KEY\"] = getpass.getpass()\n",
        "\n",
        "from langchain_openai import ChatOpenAI\n",
        "\n",
        "model = ChatOpenAI(model=\"gpt-3.5-turbo\")"
      ],
      "metadata": {
        "colab": {
          "base_uri": "https://localhost:8080/"
        },
        "id": "XxbeLhwLc_xe",
        "outputId": "32bb98c3-7f7d-4b0f-bb30-2959eaa54fa7"
      },
      "execution_count": null,
      "outputs": [
        {
          "name": "stdout",
          "output_type": "stream",
          "text": [
            "··········\n"
          ]
        }
      ]
    },
    {
      "cell_type": "code",
      "source": [
        "from langchain.document_loaders import PyMuPDFLoader\n",
        "from langchain_text_splitters import RecursiveCharacterTextSplitter\n",
        "from langchain_core.prompts import ChatPromptTemplate, MessagesPlaceholder\n",
        "from langchain_openai import OpenAIEmbeddings\n",
        "from langchain.vectorstores import Chroma\n",
        "from langchain.chains import create_retrieval_chain\n",
        "from langchain.chains.combine_documents import create_stuff_documents_chain\n",
        "from langchain.chains import create_history_aware_retriever\n",
        "from langchain_core.chat_history import BaseChatMessageHistory\n",
        "from langchain_core.runnables.history import RunnableWithMessageHistory\n",
        "from langchain_community.chat_message_histories import ChatMessageHistory"
      ],
      "metadata": {
        "id": "q54bsQlxdVF8"
      },
      "execution_count": null,
      "outputs": []
    },
    {
      "cell_type": "code",
      "source": [
        "loader = PyMuPDFLoader(\"story.pdf\")\n",
        "documents = loader.load()\n",
        "print(documents)"
      ],
      "metadata": {
        "colab": {
          "base_uri": "https://localhost:8080/"
        },
        "id": "QgSg3HznwGZM",
        "outputId": "27291135-3112-4ecf-ecf4-d3d13ae1632e"
      },
      "execution_count": null,
      "outputs": [
        {
          "output_type": "stream",
          "name": "stdout",
          "text": [
            "[Document(metadata={'source': 'story.pdf', 'file_path': 'story.pdf', 'page': 0, 'total_pages': 2, 'format': 'PDF 1.3', 'title': '', 'author': '', 'subject': '', 'keywords': '', 'creator': 'pdfmake', 'producer': 'pdfmake', 'creationDate': 'D:20240827175423Z', 'modDate': '', 'trapped': ''}, page_content='Kabir, Aryan, Nick, Hamza, and Zayn embarked on their long-awaited trekking adventure early in the morning, the excitement palpable as they \\nleft the city behind and ventured into the heart of nature. Zayn, the reliable leader, was in his element as he took charge, studying the map and \\nensuring everyone was geared up for the journey. His calm demeanor and clear direction reassured everyone that they were in safe hands. Nick, \\nthe group’s perpetual jokester, wasted no time in lifting everyone’s spirits, turning even the initial uphill climb into a comedy show with his witty \\nremarks and light-hearted banter. Every stumble became an opportunity for a joke, every pause a chance to make everyone laugh.\\n \\nAryan, the fitness enthusiast, was always at the front, moving with a brisk pace that kept the group motivated. His enthusiasm was infectious \\nas he led them through stretches and mini-exercises during their breaks, turning the trek into both an adventure and a fitness challenge. Hamza, \\nthe dedicated photographer, lagged behind just a bit, not because he was slow, but because he was intent on capturing every beautiful moment. \\nHis camera was like an extension of his hand, always ready to snap the perfect shot, whether it was the golden light filtering through the trees \\nor the candid moments of his friends laughing and enjoying themselves. Kabir, the well of knowledge, kept the journey intellectually stimulating, \\noffering insights about everything they encountered. Whether it was identifying the species of a bird that flew overhead, explaining the \\ngeological history of the rock formations they climbed, or recounting the ancient legends tied to the mountains they traversed, Kabir’s stories \\nturned the hike into a fascinating educational experience.\\n \\nAs they ventured deeper into the wilderness, they came across a clear, bubbling stream where they decided to take a break. The cool water \\nprovided a refreshing respite from the hike, and they laid out a picnic, enjoying a simple but satisfying meal. Nick kept the laughter going with \\nhis exaggerated tales of the day’s events, while Aryan, unable to sit still for long, demonstrated a few impromptu yoga poses by the water’s \\nedge, challenging the others to join him. Hamza, of course, was busy capturing these moments, ensuring that every laugh, every pose, and every \\nbeautiful scene was preserved in his camera.\\n \\nRejuvenated, they pressed on, the trail becoming steeper as they neared the summit. But the effort was worth it when they reached the top just \\nas the sun began to set. The sky exploded in hues of orange and pink, a breathtaking spectacle that Hamza eagerly documented with his lens. \\nThey set up their tents, working together seamlessly, each person playing their part, whether it was pitching the tents, gathering wood, or \\norganizing their gear. Once the camp was set, they gathered around a bonfire that Zayn expertly built. The warmth of the fire and the company \\nof good friends made for a perfect evening. They roasted marshmallows, shared stories, and simply enjoyed each other’s company under the \\nvast, starry sky. Kabir took this moment to point out the constellations above, sharing their myths and stories, adding a layer of magic to the \\nnight.\\n \\n'), Document(metadata={'source': 'story.pdf', 'file_path': 'story.pdf', 'page': 1, 'total_pages': 2, 'format': 'PDF 1.3', 'title': '', 'author': '', 'subject': '', 'keywords': '', 'creator': 'pdfmake', 'producer': 'pdfmake', 'creationDate': 'D:20240827175423Z', 'modDate': '', 'trapped': ''}, page_content='Just as they were settling in, dark clouds began to gather, and a gentle rain started to fall. But instead of dampening their spirits, it added an \\nunexpected thrill to the night. Nick, ever the one to find joy in any situation, jumped up and began dancing in the rain, pulling everyone into his \\nspontaneous celebration. Aryan, never one to back down from a challenge, turned it into a friendly competition of who could catch the most \\nraindrops, with everyone laughing and joining in. Zayn, always thinking ahead, made sure the fire stayed alive despite the drizzle, while Hamza \\ncaptured the rain-soaked fun with his camera, turning the moment into a beautiful, impromptu photoshoot.\\n \\nAs the rain tapered off, they huddled together under blankets, sipping hot cocoa, their wet clothes and hair only adding to the sense of \\nadventure. Kabir, ever the storyteller, shared tales of explorers and adventurers who had faced similar weather, their courage and determination \\nmirrored in the group’s own experience. The warmth of the fire, the stories, and the shared sense of accomplishment made for a night they \\nwould all remember fondly.\\n \\nThe next morning, they woke to a breathtaking sunrise, the sky clear and the air fresh after the night’s rain. They packed up their campsite, \\nworking together in comfortable silence, each person reflecting on the adventure they had just shared. As they began their descent, the mood \\nwas lighter, their pace leisurely, as they took the time to enjoy the scenery they had hurried past the day before. Along the way, they reminisced \\nabout their favorite moments—Nick’s jokes, Aryan’s fitness challenges, Hamza’s relentless photo-taking, Kabir’s endless knowledge, and Zayn’s \\nsteady leadership. The journey back was filled with laughter and a sense of contentment, each friend knowing that this trek had been about \\nmore than just reaching the summit; it had been a celebration of their friendship and the unique qualities each of them brought to the group.\\n \\nBy the time they reached the base, they were tired but happy, their bonds strengthened by the adventure they had shared. They knew that this \\ntrek was just the first of many, each one eager to bring their unique strengths to the next challenge, their friendship made stronger by the \\njourney they had completed together.\\n')]\n"
          ]
        }
      ]
    },
    {
      "cell_type": "code",
      "source": [
        "text_splitter = RecursiveCharacterTextSplitter(chunk_size = 500, chunk_overlap = 200)\n",
        "chunks = text_splitter.split_documents(documents)\n",
        "print(len(chunks))"
      ],
      "metadata": {
        "colab": {
          "base_uri": "https://localhost:8080/"
        },
        "id": "rmomDAhH_X-m",
        "outputId": "fa0033de-9e8c-43e3-f525-b2b14a097ccc"
      },
      "execution_count": null,
      "outputs": [
        {
          "output_type": "stream",
          "name": "stdout",
          "text": [
            "19\n"
          ]
        }
      ]
    },
    {
      "cell_type": "code",
      "source": [
        "for i, chunk in enumerate(chunks):\n",
        "    print(f\"Chunk {i + 1}:\")\n",
        "    print(chunk)\n",
        "    print(\"-\" * 40)"
      ],
      "metadata": {
        "colab": {
          "base_uri": "https://localhost:8080/"
        },
        "id": "GazJBObzBR8u",
        "outputId": "601f7601-2c1a-48ca-e59b-186d113dbdf4"
      },
      "execution_count": null,
      "outputs": [
        {
          "output_type": "stream",
          "name": "stdout",
          "text": [
            "Chunk 1:\n",
            "page_content='Kabir, Aryan, Nick, Hamza, and Zayn embarked on their long-awaited trekking adventure early in the morning, the excitement palpable as they \n",
            "left the city behind and ventured into the heart of nature. Zayn, the reliable leader, was in his element as he took charge, studying the map and \n",
            "ensuring everyone was geared up for the journey. His calm demeanor and clear direction reassured everyone that they were in safe hands. Nick,' metadata={'source': 'story.pdf', 'file_path': 'story.pdf', 'page': 0, 'total_pages': 2, 'format': 'PDF 1.3', 'title': '', 'author': '', 'subject': '', 'keywords': '', 'creator': 'pdfmake', 'producer': 'pdfmake', 'creationDate': 'D:20240827175423Z', 'modDate': '', 'trapped': ''}\n",
            "----------------------------------------\n",
            "Chunk 2:\n",
            "page_content='ensuring everyone was geared up for the journey. His calm demeanor and clear direction reassured everyone that they were in safe hands. Nick, \n",
            "the group’s perpetual jokester, wasted no time in lifting everyone’s spirits, turning even the initial uphill climb into a comedy show with his witty \n",
            "remarks and light-hearted banter. Every stumble became an opportunity for a joke, every pause a chance to make everyone laugh.' metadata={'source': 'story.pdf', 'file_path': 'story.pdf', 'page': 0, 'total_pages': 2, 'format': 'PDF 1.3', 'title': '', 'author': '', 'subject': '', 'keywords': '', 'creator': 'pdfmake', 'producer': 'pdfmake', 'creationDate': 'D:20240827175423Z', 'modDate': '', 'trapped': ''}\n",
            "----------------------------------------\n",
            "Chunk 3:\n",
            "page_content='remarks and light-hearted banter. Every stumble became an opportunity for a joke, every pause a chance to make everyone laugh.\n",
            " \n",
            "Aryan, the fitness enthusiast, was always at the front, moving with a brisk pace that kept the group motivated. His enthusiasm was infectious \n",
            "as he led them through stretches and mini-exercises during their breaks, turning the trek into both an adventure and a fitness challenge. Hamza,' metadata={'source': 'story.pdf', 'file_path': 'story.pdf', 'page': 0, 'total_pages': 2, 'format': 'PDF 1.3', 'title': '', 'author': '', 'subject': '', 'keywords': '', 'creator': 'pdfmake', 'producer': 'pdfmake', 'creationDate': 'D:20240827175423Z', 'modDate': '', 'trapped': ''}\n",
            "----------------------------------------\n",
            "Chunk 4:\n",
            "page_content='as he led them through stretches and mini-exercises during their breaks, turning the trek into both an adventure and a fitness challenge. Hamza, \n",
            "the dedicated photographer, lagged behind just a bit, not because he was slow, but because he was intent on capturing every beautiful moment. \n",
            "His camera was like an extension of his hand, always ready to snap the perfect shot, whether it was the golden light filtering through the trees' metadata={'source': 'story.pdf', 'file_path': 'story.pdf', 'page': 0, 'total_pages': 2, 'format': 'PDF 1.3', 'title': '', 'author': '', 'subject': '', 'keywords': '', 'creator': 'pdfmake', 'producer': 'pdfmake', 'creationDate': 'D:20240827175423Z', 'modDate': '', 'trapped': ''}\n",
            "----------------------------------------\n",
            "Chunk 5:\n",
            "page_content='His camera was like an extension of his hand, always ready to snap the perfect shot, whether it was the golden light filtering through the trees \n",
            "or the candid moments of his friends laughing and enjoying themselves. Kabir, the well of knowledge, kept the journey intellectually stimulating, \n",
            "offering insights about everything they encountered. Whether it was identifying the species of a bird that flew overhead, explaining the' metadata={'source': 'story.pdf', 'file_path': 'story.pdf', 'page': 0, 'total_pages': 2, 'format': 'PDF 1.3', 'title': '', 'author': '', 'subject': '', 'keywords': '', 'creator': 'pdfmake', 'producer': 'pdfmake', 'creationDate': 'D:20240827175423Z', 'modDate': '', 'trapped': ''}\n",
            "----------------------------------------\n",
            "Chunk 6:\n",
            "page_content='offering insights about everything they encountered. Whether it was identifying the species of a bird that flew overhead, explaining the \n",
            "geological history of the rock formations they climbed, or recounting the ancient legends tied to the mountains they traversed, Kabir’s stories \n",
            "turned the hike into a fascinating educational experience.\n",
            " \n",
            "As they ventured deeper into the wilderness, they came across a clear, bubbling stream where they decided to take a break. The cool water' metadata={'source': 'story.pdf', 'file_path': 'story.pdf', 'page': 0, 'total_pages': 2, 'format': 'PDF 1.3', 'title': '', 'author': '', 'subject': '', 'keywords': '', 'creator': 'pdfmake', 'producer': 'pdfmake', 'creationDate': 'D:20240827175423Z', 'modDate': '', 'trapped': ''}\n",
            "----------------------------------------\n",
            "Chunk 7:\n",
            "page_content='turned the hike into a fascinating educational experience.\n",
            " \n",
            "As they ventured deeper into the wilderness, they came across a clear, bubbling stream where they decided to take a break. The cool water \n",
            "provided a refreshing respite from the hike, and they laid out a picnic, enjoying a simple but satisfying meal. Nick kept the laughter going with \n",
            "his exaggerated tales of the day’s events, while Aryan, unable to sit still for long, demonstrated a few impromptu yoga poses by the water’s' metadata={'source': 'story.pdf', 'file_path': 'story.pdf', 'page': 0, 'total_pages': 2, 'format': 'PDF 1.3', 'title': '', 'author': '', 'subject': '', 'keywords': '', 'creator': 'pdfmake', 'producer': 'pdfmake', 'creationDate': 'D:20240827175423Z', 'modDate': '', 'trapped': ''}\n",
            "----------------------------------------\n",
            "Chunk 8:\n",
            "page_content='his exaggerated tales of the day’s events, while Aryan, unable to sit still for long, demonstrated a few impromptu yoga poses by the water’s \n",
            "edge, challenging the others to join him. Hamza, of course, was busy capturing these moments, ensuring that every laugh, every pose, and every \n",
            "beautiful scene was preserved in his camera.\n",
            " \n",
            "Rejuvenated, they pressed on, the trail becoming steeper as they neared the summit. But the effort was worth it when they reached the top just' metadata={'source': 'story.pdf', 'file_path': 'story.pdf', 'page': 0, 'total_pages': 2, 'format': 'PDF 1.3', 'title': '', 'author': '', 'subject': '', 'keywords': '', 'creator': 'pdfmake', 'producer': 'pdfmake', 'creationDate': 'D:20240827175423Z', 'modDate': '', 'trapped': ''}\n",
            "----------------------------------------\n",
            "Chunk 9:\n",
            "page_content='beautiful scene was preserved in his camera.\n",
            " \n",
            "Rejuvenated, they pressed on, the trail becoming steeper as they neared the summit. But the effort was worth it when they reached the top just \n",
            "as the sun began to set. The sky exploded in hues of orange and pink, a breathtaking spectacle that Hamza eagerly documented with his lens. \n",
            "They set up their tents, working together seamlessly, each person playing their part, whether it was pitching the tents, gathering wood, or' metadata={'source': 'story.pdf', 'file_path': 'story.pdf', 'page': 0, 'total_pages': 2, 'format': 'PDF 1.3', 'title': '', 'author': '', 'subject': '', 'keywords': '', 'creator': 'pdfmake', 'producer': 'pdfmake', 'creationDate': 'D:20240827175423Z', 'modDate': '', 'trapped': ''}\n",
            "----------------------------------------\n",
            "Chunk 10:\n",
            "page_content='They set up their tents, working together seamlessly, each person playing their part, whether it was pitching the tents, gathering wood, or \n",
            "organizing their gear. Once the camp was set, they gathered around a bonfire that Zayn expertly built. The warmth of the fire and the company \n",
            "of good friends made for a perfect evening. They roasted marshmallows, shared stories, and simply enjoyed each other’s company under the' metadata={'source': 'story.pdf', 'file_path': 'story.pdf', 'page': 0, 'total_pages': 2, 'format': 'PDF 1.3', 'title': '', 'author': '', 'subject': '', 'keywords': '', 'creator': 'pdfmake', 'producer': 'pdfmake', 'creationDate': 'D:20240827175423Z', 'modDate': '', 'trapped': ''}\n",
            "----------------------------------------\n",
            "Chunk 11:\n",
            "page_content='of good friends made for a perfect evening. They roasted marshmallows, shared stories, and simply enjoyed each other’s company under the \n",
            "vast, starry sky. Kabir took this moment to point out the constellations above, sharing their myths and stories, adding a layer of magic to the \n",
            "night.' metadata={'source': 'story.pdf', 'file_path': 'story.pdf', 'page': 0, 'total_pages': 2, 'format': 'PDF 1.3', 'title': '', 'author': '', 'subject': '', 'keywords': '', 'creator': 'pdfmake', 'producer': 'pdfmake', 'creationDate': 'D:20240827175423Z', 'modDate': '', 'trapped': ''}\n",
            "----------------------------------------\n",
            "Chunk 12:\n",
            "page_content='Just as they were settling in, dark clouds began to gather, and a gentle rain started to fall. But instead of dampening their spirits, it added an \n",
            "unexpected thrill to the night. Nick, ever the one to find joy in any situation, jumped up and began dancing in the rain, pulling everyone into his \n",
            "spontaneous celebration. Aryan, never one to back down from a challenge, turned it into a friendly competition of who could catch the most' metadata={'source': 'story.pdf', 'file_path': 'story.pdf', 'page': 1, 'total_pages': 2, 'format': 'PDF 1.3', 'title': '', 'author': '', 'subject': '', 'keywords': '', 'creator': 'pdfmake', 'producer': 'pdfmake', 'creationDate': 'D:20240827175423Z', 'modDate': '', 'trapped': ''}\n",
            "----------------------------------------\n",
            "Chunk 13:\n",
            "page_content='spontaneous celebration. Aryan, never one to back down from a challenge, turned it into a friendly competition of who could catch the most \n",
            "raindrops, with everyone laughing and joining in. Zayn, always thinking ahead, made sure the fire stayed alive despite the drizzle, while Hamza \n",
            "captured the rain-soaked fun with his camera, turning the moment into a beautiful, impromptu photoshoot.' metadata={'source': 'story.pdf', 'file_path': 'story.pdf', 'page': 1, 'total_pages': 2, 'format': 'PDF 1.3', 'title': '', 'author': '', 'subject': '', 'keywords': '', 'creator': 'pdfmake', 'producer': 'pdfmake', 'creationDate': 'D:20240827175423Z', 'modDate': '', 'trapped': ''}\n",
            "----------------------------------------\n",
            "Chunk 14:\n",
            "page_content='captured the rain-soaked fun with his camera, turning the moment into a beautiful, impromptu photoshoot.\n",
            " \n",
            "As the rain tapered off, they huddled together under blankets, sipping hot cocoa, their wet clothes and hair only adding to the sense of \n",
            "adventure. Kabir, ever the storyteller, shared tales of explorers and adventurers who had faced similar weather, their courage and determination' metadata={'source': 'story.pdf', 'file_path': 'story.pdf', 'page': 1, 'total_pages': 2, 'format': 'PDF 1.3', 'title': '', 'author': '', 'subject': '', 'keywords': '', 'creator': 'pdfmake', 'producer': 'pdfmake', 'creationDate': 'D:20240827175423Z', 'modDate': '', 'trapped': ''}\n",
            "----------------------------------------\n",
            "Chunk 15:\n",
            "page_content='adventure. Kabir, ever the storyteller, shared tales of explorers and adventurers who had faced similar weather, their courage and determination \n",
            "mirrored in the group’s own experience. The warmth of the fire, the stories, and the shared sense of accomplishment made for a night they \n",
            "would all remember fondly.\n",
            " \n",
            "The next morning, they woke to a breathtaking sunrise, the sky clear and the air fresh after the night’s rain. They packed up their campsite,' metadata={'source': 'story.pdf', 'file_path': 'story.pdf', 'page': 1, 'total_pages': 2, 'format': 'PDF 1.3', 'title': '', 'author': '', 'subject': '', 'keywords': '', 'creator': 'pdfmake', 'producer': 'pdfmake', 'creationDate': 'D:20240827175423Z', 'modDate': '', 'trapped': ''}\n",
            "----------------------------------------\n",
            "Chunk 16:\n",
            "page_content='would all remember fondly.\n",
            " \n",
            "The next morning, they woke to a breathtaking sunrise, the sky clear and the air fresh after the night’s rain. They packed up their campsite, \n",
            "working together in comfortable silence, each person reflecting on the adventure they had just shared. As they began their descent, the mood \n",
            "was lighter, their pace leisurely, as they took the time to enjoy the scenery they had hurried past the day before. Along the way, they reminisced' metadata={'source': 'story.pdf', 'file_path': 'story.pdf', 'page': 1, 'total_pages': 2, 'format': 'PDF 1.3', 'title': '', 'author': '', 'subject': '', 'keywords': '', 'creator': 'pdfmake', 'producer': 'pdfmake', 'creationDate': 'D:20240827175423Z', 'modDate': '', 'trapped': ''}\n",
            "----------------------------------------\n",
            "Chunk 17:\n",
            "page_content='was lighter, their pace leisurely, as they took the time to enjoy the scenery they had hurried past the day before. Along the way, they reminisced \n",
            "about their favorite moments—Nick’s jokes, Aryan’s fitness challenges, Hamza’s relentless photo-taking, Kabir’s endless knowledge, and Zayn’s \n",
            "steady leadership. The journey back was filled with laughter and a sense of contentment, each friend knowing that this trek had been about' metadata={'source': 'story.pdf', 'file_path': 'story.pdf', 'page': 1, 'total_pages': 2, 'format': 'PDF 1.3', 'title': '', 'author': '', 'subject': '', 'keywords': '', 'creator': 'pdfmake', 'producer': 'pdfmake', 'creationDate': 'D:20240827175423Z', 'modDate': '', 'trapped': ''}\n",
            "----------------------------------------\n",
            "Chunk 18:\n",
            "page_content='steady leadership. The journey back was filled with laughter and a sense of contentment, each friend knowing that this trek had been about \n",
            "more than just reaching the summit; it had been a celebration of their friendship and the unique qualities each of them brought to the group.\n",
            " \n",
            "By the time they reached the base, they were tired but happy, their bonds strengthened by the adventure they had shared. They knew that this' metadata={'source': 'story.pdf', 'file_path': 'story.pdf', 'page': 1, 'total_pages': 2, 'format': 'PDF 1.3', 'title': '', 'author': '', 'subject': '', 'keywords': '', 'creator': 'pdfmake', 'producer': 'pdfmake', 'creationDate': 'D:20240827175423Z', 'modDate': '', 'trapped': ''}\n",
            "----------------------------------------\n",
            "Chunk 19:\n",
            "page_content='By the time they reached the base, they were tired but happy, their bonds strengthened by the adventure they had shared. They knew that this \n",
            "trek was just the first of many, each one eager to bring their unique strengths to the next challenge, their friendship made stronger by the \n",
            "journey they had completed together.' metadata={'source': 'story.pdf', 'file_path': 'story.pdf', 'page': 1, 'total_pages': 2, 'format': 'PDF 1.3', 'title': '', 'author': '', 'subject': '', 'keywords': '', 'creator': 'pdfmake', 'producer': 'pdfmake', 'creationDate': 'D:20240827175423Z', 'modDate': '', 'trapped': ''}\n",
            "----------------------------------------\n"
          ]
        }
      ]
    },
    {
      "cell_type": "code",
      "source": [
        "vectorStores = Chroma.from_documents(documents = chunks, embedding = OpenAIEmbeddings())"
      ],
      "metadata": {
        "id": "9ODUEVBFBmaC"
      },
      "execution_count": null,
      "outputs": []
    },
    {
      "cell_type": "code",
      "source": [
        "retriever = vectorStores.as_retriever()"
      ],
      "metadata": {
        "id": "cZD-0i3fDsTw"
      },
      "execution_count": null,
      "outputs": []
    },
    {
      "cell_type": "code",
      "source": [
        "system_prompt = (\n",
        "    \"You are an assistant for question-answering tasks. \"\n",
        "    \"Use the following pieces of retrieved context to answer \"\n",
        "    \"the question. If you don't know the answer, say that you \"\n",
        "    \"don't know. Use two sentences maximum and keep the \"\n",
        "    \"answer concise.\"\n",
        "    \"\\n\\n\"\n",
        "    \"{context}\"\n",
        ")\n",
        "\n",
        "prompt = ChatPromptTemplate.from_messages(\n",
        "    [\n",
        "        (\"system\", system_prompt),\n",
        "        (\"human\", \"{input}\"),\n",
        "    ]\n",
        ")\n"
      ],
      "metadata": {
        "id": "P2qp9JbeH2L3"
      },
      "execution_count": null,
      "outputs": []
    },
    {
      "cell_type": "code",
      "source": [
        "question_answer_chain = create_stuff_documents_chain(model, prompt)\n",
        "rag_chain = create_retrieval_chain(retriever, question_answer_chain)"
      ],
      "metadata": {
        "id": "RT45_D1yIEML"
      },
      "execution_count": null,
      "outputs": []
    },
    {
      "cell_type": "code",
      "source": [
        "result = rag_chain.invoke({\"input\":\"who is Kabir\"})\n",
        "print(result[\"answer\"])"
      ],
      "metadata": {
        "colab": {
          "base_uri": "https://localhost:8080/"
        },
        "id": "SA2IOuFXI6qe",
        "outputId": "85d3ec79-a366-4374-e8b2-e09532f80030"
      },
      "execution_count": null,
      "outputs": [
        {
          "output_type": "stream",
          "name": "stdout",
          "text": [
            "Kabir is described as a knowledgeable individual who enriched a hiking journey by offering insights about various topics encountered during the trip and sharing stories related to nature and legends.\n"
          ]
        }
      ]
    },
    {
      "cell_type": "code",
      "source": [
        "result = rag_chain.invoke({\"input\":\"Who was the funny character\"})\n",
        "print(result[\"answer\"])"
      ],
      "metadata": {
        "colab": {
          "base_uri": "https://localhost:8080/"
        },
        "id": "NZ52PXrXJ63R",
        "outputId": "165ee338-568c-4f47-fb2b-ca6fe1ba0b39"
      },
      "execution_count": null,
      "outputs": [
        {
          "output_type": "stream",
          "name": "stdout",
          "text": [
            "Nick was the funny character who lifted everyone's spirits with witty remarks and light-hearted banter during the trek.\n"
          ]
        }
      ]
    },
    {
      "cell_type": "code",
      "source": [
        "result = rag_chain.invoke({\"input\":\"what happened during the rain\"})\n",
        "print(result[\"answer\"])"
      ],
      "metadata": {
        "colab": {
          "base_uri": "https://localhost:8080/"
        },
        "id": "XSp_h8i7KMCC",
        "outputId": "ea40a726-4468-4aff-b931-cd65aa79aa7a"
      },
      "execution_count": null,
      "outputs": [
        {
          "output_type": "stream",
          "name": "stdout",
          "text": [
            "Despite the rain starting to fall, the group found joy in the situation and engaged in a spontaneous celebration, including dancing and a friendly competition of catching raindrops. Hamza also captured the moment with his camera, turning it into a beautiful impromptu photoshoot.\n"
          ]
        }
      ]
    },
    {
      "cell_type": "code",
      "source": [
        "result = rag_chain.invoke({\"input\":\"Describe Zayn's character\"})\n",
        "print(result[\"answer\"])"
      ],
      "metadata": {
        "colab": {
          "base_uri": "https://localhost:8080/"
        },
        "id": "td3hU6k3KiKr",
        "outputId": "1f56e685-707a-4d55-bf21-d463bf34e9cf"
      },
      "execution_count": null,
      "outputs": [
        {
          "output_type": "stream",
          "name": "stdout",
          "text": [
            "Zayn is described as a reliable leader who is calm, clear in his direction, and ensures everyone is prepared for the journey. He takes charge, studies the map, and reassures others that they are in safe hands.\n"
          ]
        }
      ]
    },
    {
      "cell_type": "markdown",
      "source": [
        "**ADDING CHAT HISTORY**"
      ],
      "metadata": {
        "id": "2KoG8SlCyrYJ"
      }
    },
    {
      "cell_type": "code",
      "source": [
        "### Contextualize question ###\n",
        "contextualize_q_system_prompt = (\n",
        "    \"Given a chat history and the latest user question \"\n",
        "    \"which might reference context in the chat history, \"\n",
        "    \"formulate a standalone question which can be understood \"\n",
        "    \"without the chat history. Do NOT answer the question, \"\n",
        "    \"just reformulate it if needed and otherwise return it as is.\"\n",
        ")\n",
        "\n",
        "contextualize_q_prompt = ChatPromptTemplate.from_messages(\n",
        "    [\n",
        "        (\"system\", contextualize_q_system_prompt),\n",
        "        MessagesPlaceholder(\"chat_history\"),\n",
        "        (\"human\", \"{input}\"),\n",
        "    ]\n",
        ")\n",
        "\n",
        "history_aware_retriever = create_history_aware_retriever(\n",
        "    model, retriever, contextualize_q_prompt\n",
        ")"
      ],
      "metadata": {
        "id": "niUixDimEFJL"
      },
      "execution_count": null,
      "outputs": []
    },
    {
      "cell_type": "code",
      "source": [
        "system_prompt = (\n",
        "    \"You are an assistant for question-answering tasks. \"\n",
        "    \"Use the following pieces of retrieved context to answer \"\n",
        "    \"the question. If you don't know the answer, say that you \"\n",
        "    \"don't know. Use three sentences maximum and keep the \"\n",
        "    \"answer concise.\"\n",
        "    \"\\n\\n\"\n",
        "    \"{context}\"\n",
        ")\n",
        "qa_prompt = ChatPromptTemplate.from_messages(\n",
        "    [\n",
        "        (\"system\", system_prompt),\n",
        "        MessagesPlaceholder(\"chat_history\"),\n",
        "        (\"human\", \"{input}\"),\n",
        "    ]\n",
        ")\n",
        "question_answer_chain = create_stuff_documents_chain(model, qa_prompt)\n",
        "\n",
        "rag_chain = create_retrieval_chain(history_aware_retriever, question_answer_chain)"
      ],
      "metadata": {
        "id": "l5YBS6NMHU8n"
      },
      "execution_count": null,
      "outputs": []
    },
    {
      "cell_type": "code",
      "source": [
        "### Statefully manage chat history ###\n",
        "store = {}\n",
        "\n",
        "\n",
        "def get_session_history(session_id: str) -> BaseChatMessageHistory:\n",
        "    if session_id not in store:\n",
        "        store[session_id] = ChatMessageHistory()\n",
        "    return store[session_id]"
      ],
      "metadata": {
        "id": "kY0OIAkoMhwd"
      },
      "execution_count": null,
      "outputs": []
    },
    {
      "cell_type": "code",
      "source": [
        "conversational_rag_chain = RunnableWithMessageHistory(\n",
        "    rag_chain,\n",
        "    get_session_history,\n",
        "    input_messages_key=\"input\",\n",
        "    history_messages_key=\"chat_history\",\n",
        "    output_messages_key=\"answer\",\n",
        ")"
      ],
      "metadata": {
        "id": "8_Mj3nUDOH3S"
      },
      "execution_count": null,
      "outputs": []
    },
    {
      "cell_type": "code",
      "source": [
        "conversational_rag_chain.invoke(\n",
        "    {\"input\": \"Who is hamza?\"},\n",
        "    config={\n",
        "        \"configurable\": {\"session_id\": \"abc\"}\n",
        "    },\n",
        ")[\"answer\"]"
      ],
      "metadata": {
        "colab": {
          "base_uri": "https://localhost:8080/",
          "height": 90
        },
        "id": "xRtTqnhU0dSJ",
        "outputId": "9dd99057-ac7c-40cb-e455-30fb200e0ab9"
      },
      "execution_count": null,
      "outputs": [
        {
          "output_type": "execute_result",
          "data": {
            "text/plain": [
              "'Hamza is the dedicated photographer mentioned in the context, who lagged behind the group a bit during the trek not because he was slow, but because he was focused on capturing every beautiful moment with his camera. His passion for photography was evident as he documented the trek and the breathtaking scenes they encountered.'"
            ],
            "application/vnd.google.colaboratory.intrinsic+json": {
              "type": "string"
            }
          },
          "metadata": {},
          "execution_count": 65
        }
      ]
    },
    {
      "cell_type": "code",
      "source": [
        "conversational_rag_chain.invoke(\n",
        "    {\"input\": \"what did he do when it started raining?\"},\n",
        "    config={\"configurable\": {\"session_id\": \"abc\"}},\n",
        ")[\"answer\"]"
      ],
      "metadata": {
        "colab": {
          "base_uri": "https://localhost:8080/",
          "height": 72
        },
        "id": "_fxCIzwL0vXE",
        "outputId": "9eb7328c-381e-4b00-d102-6eaf96805e66"
      },
      "execution_count": null,
      "outputs": [
        {
          "output_type": "execute_result",
          "data": {
            "text/plain": [
              "'When it started raining, Hamza captured the rain-soaked fun with his camera, turning the spontaneous celebration into a beautiful, impromptu photoshoot. Despite the drizzle, he made sure to preserve the laughter and joy of the moment through his photography.'"
            ],
            "application/vnd.google.colaboratory.intrinsic+json": {
              "type": "string"
            }
          },
          "metadata": {},
          "execution_count": 66
        }
      ]
    },
    {
      "cell_type": "code",
      "source": [
        "conversational_rag_chain.invoke(\n",
        "    {\"input\": \"Who was the leader of the group during the trek?\"},\n",
        "    config={\n",
        "        \"configurable\": {\"session_id\": \"abcd\"}\n",
        "    },\n",
        ")[\"answer\"]"
      ],
      "metadata": {
        "colab": {
          "base_uri": "https://localhost:8080/",
          "height": 72
        },
        "id": "qcqGc6R-7HYB",
        "outputId": "f31925f2-4d2b-410b-b08a-31c70ac444a0"
      },
      "execution_count": null,
      "outputs": [
        {
          "output_type": "execute_result",
          "data": {
            "text/plain": [
              "'Zayn was the leader of the group during the trek. He took charge, studied the map, and ensured everyone was geared up for the journey, reassuring everyone with his calm demeanor and clear direction.'"
            ],
            "application/vnd.google.colaboratory.intrinsic+json": {
              "type": "string"
            }
          },
          "metadata": {},
          "execution_count": 69
        }
      ]
    },
    {
      "cell_type": "code",
      "source": [
        "conversational_rag_chain.invoke(\n",
        "    {\"input\": \"What leadership qualities did he display during the trek?\"},\n",
        "    config={\n",
        "        \"configurable\": {\"session_id\": \"abcd\"}\n",
        "    },\n",
        ")[\"answer\"]"
      ],
      "metadata": {
        "colab": {
          "base_uri": "https://localhost:8080/",
          "height": 72
        },
        "id": "zH7dJY-Y7O6C",
        "outputId": "70aca41b-d85c-4172-f6ef-18acfdd48d5b"
      },
      "execution_count": null,
      "outputs": [
        {
          "output_type": "execute_result",
          "data": {
            "text/plain": [
              "'Zayn displayed leadership qualities such as taking charge, studying the map, ensuring everyone was prepared for the journey, maintaining a calm demeanor, providing clear direction, and reassuring everyone that they were in safe hands.'"
            ],
            "application/vnd.google.colaboratory.intrinsic+json": {
              "type": "string"
            }
          },
          "metadata": {},
          "execution_count": 70
        }
      ]
    }
  ]
}