{
  "nbformat": 4,
  "nbformat_minor": 0,
  "metadata": {
    "colab": {
      "provenance": [],
      "authorship_tag": "ABX9TyOEPXjou9SDs0eVS02fn3HO",
      "include_colab_link": true
    },
    "kernelspec": {
      "name": "python3",
      "display_name": "Python 3"
    },
    "language_info": {
      "name": "python"
    }
  },
  "cells": [
    {
      "cell_type": "markdown",
      "metadata": {
        "id": "view-in-github",
        "colab_type": "text"
      },
      "source": [
        "<a href=\"https://colab.research.google.com/github/shiffa-04/LangChain/blob/main/RAG_project2.ipynb\" target=\"_parent\"><img src=\"https://colab.research.google.com/assets/colab-badge.svg\" alt=\"Open In Colab\"/></a>"
      ]
    },
    {
      "cell_type": "code",
      "source": [
        "pip install langchain"
      ],
      "metadata": {
        "id": "WwXemM6Os_Ur"
      },
      "execution_count": null,
      "outputs": []
    },
    {
      "cell_type": "code",
      "source": [
        "pip install --upgrade --quiet  langchain langchain-community langchainhub langchain-chroma"
      ],
      "metadata": {
        "id": "sftiH-TZt31k"
      },
      "execution_count": null,
      "outputs": []
    },
    {
      "cell_type": "code",
      "source": [
        "pip install -qU langchain-openai"
      ],
      "metadata": {
        "id": "DWFSgyjpt7Kx"
      },
      "execution_count": null,
      "outputs": []
    },
    {
      "cell_type": "code",
      "source": [
        "pip install python-docx"
      ],
      "metadata": {
        "id": "ssx_jMzWW8AN"
      },
      "execution_count": null,
      "outputs": []
    },
    {
      "cell_type": "code",
      "source": [
        "pip install langgraph"
      ],
      "metadata": {
        "id": "M-7qxvGo_1t9"
      },
      "execution_count": null,
      "outputs": []
    },
    {
      "cell_type": "code",
      "source": [
        "import getpass\n",
        "import os\n",
        "\n",
        "os.environ[\"OPENAI_API_KEY\"] = getpass.getpass()\n",
        "\n",
        "from langchain_openai import ChatOpenAI\n",
        "\n",
        "model = ChatOpenAI(model=\"gpt-3.5-turbo\")"
      ],
      "metadata": {
        "colab": {
          "base_uri": "https://localhost:8080/"
        },
        "id": "30vDoYPx8FiH",
        "outputId": "4d3c8399-80c6-40e9-f6cc-02c788fa6b10"
      },
      "execution_count": 6,
      "outputs": [
        {
          "name": "stdout",
          "output_type": "stream",
          "text": [
            "··········\n"
          ]
        }
      ]
    },
    {
      "cell_type": "code",
      "source": [
        "from docx import Document\n",
        "from langchain.schema import Document\n",
        "from langchain_text_splitters import RecursiveCharacterTextSplitter\n",
        "from langchain_chroma import Chroma\n",
        "from langchain_openai import ChatOpenAI, OpenAIEmbeddings\n",
        "from langchain.tools.retriever import create_retriever_tool\n",
        "from langchain.tools import Tool\n",
        "from langgraph.checkpoint.memory import MemorySaver\n",
        "from langgraph.prebuilt import create_react_agent\n",
        "from langchain.tools.retriever import create_retriever_tool\n",
        "from langgraph.checkpoint.memory import MemorySaver\n",
        "from langgraph.prebuilt import create_react_agent\n",
        "from langchain.schema import HumanMessage"
      ],
      "metadata": {
        "id": "U_ckisVdXHti"
      },
      "execution_count": 13,
      "outputs": []
    },
    {
      "cell_type": "code",
      "source": [
        "def read_docx(file_path):\n",
        "  doc = Document(file_path)\n",
        "  # print(doc)\n",
        "  text = []\n",
        "  for para in doc.paragraphs:\n",
        "    # print(para.text)\n",
        "    text.append(para.text)\n",
        "  return '/n'.join(text)\n",
        "\n",
        "doc_text = read_docx(\"/content/story2.docx\")"
      ],
      "metadata": {
        "id": "gZiw9R3mXIts"
      },
      "execution_count": 12,
      "outputs": []
    },
    {
      "cell_type": "code",
      "source": [
        "docx_text = Document(page_content = doc_text)"
      ],
      "metadata": {
        "id": "sJX9zG3m6ihJ"
      },
      "execution_count": 14,
      "outputs": []
    },
    {
      "cell_type": "code",
      "source": [
        "text_splitter = RecursiveCharacterTextSplitter(chunk_size = 500, chunk_overlap = 200)\n",
        "chunks = text_splitter.split_documents([docx_text])\n",
        "print(len(chunks))"
      ],
      "metadata": {
        "colab": {
          "base_uri": "https://localhost:8080/"
        },
        "id": "Eb6cOUcyzDBq",
        "outputId": "8c781b6c-dae1-4de1-9cb8-2aaf07cef5ee"
      },
      "execution_count": 15,
      "outputs": [
        {
          "output_type": "stream",
          "name": "stdout",
          "text": [
            "11\n"
          ]
        }
      ]
    },
    {
      "cell_type": "code",
      "source": [
        "for i, chunk in enumerate(chunks):\n",
        "  print(f\"Chunk {i+1}:\")\n",
        "  print(chunk)"
      ],
      "metadata": {
        "colab": {
          "base_uri": "https://localhost:8080/"
        },
        "id": "CqYxCNdWbxoS",
        "outputId": "f0000a14-4b84-42d4-e8b5-92f3e7ffa7eb"
      },
      "execution_count": 16,
      "outputs": [
        {
          "output_type": "stream",
          "name": "stdout",
          "text": [
            "Chunk 1:\n",
            "page_content='Kabir, Aryan, Nick, Hamza, and Zayn set out early in the morning for their much- awaited trekking adventure, each one excited to escape the hustle of city life and embrace the beauty of nature. Zayn, the dependable leader, took charge of mapping out the trail and ensuring everyone was prepared for the journey ahead. Nick, with his endless jokes and cheerful spirit, kept the group laughing as they walked, turning even the steepest climbs into fun challenges. Aryan, the energetic fitness'\n",
            "Chunk 2:\n",
            "page_content='for the journey ahead. Nick, with his endless jokes and cheerful spirit, kept the group laughing as they walked, turning even the steepest climbs into fun challenges. Aryan, the energetic fitness enthusiast, led the pack with swift strides, encouraging others to keep up and even suggesting quick workout stops to stretch their muscles and keep the blood flowing. Hamza, the talented photographer, lagged slightly behind, capturing the stunning landscapes and candid moments of his friends enjoying'\n",
            "Chunk 3:\n",
            "page_content='stops to stretch their muscles and keep the blood flowing. Hamza, the talented photographer, lagged slightly behind, capturing the stunning landscapes and candid moments of his friends enjoying themselves, his camera clicking nonstop to seize every beautiful detail. Kabir, the knowledgeable one, enriched the trek by sharing interesting facts about everything they encountered—he pointed out different bird species fluttering above, explained the formation of the rocky terrains they crossed, and'\n",
            "Chunk 4:\n",
            "page_content='the trek by sharing interesting facts about everything they encountered—he pointed out different bird species fluttering above, explained the formation of the rocky terrains they crossed, and even discussed the ancient legends associated with the mountains they were climbing./nAs the day progressed, they stopped by a clear, bubbling stream to rest and enjoy a picnic lunch, where Nick's humorous storytelling had everyone in stitches, and Aryan demonstrated some impromptu yoga poses by the'\n",
            "Chunk 5:\n",
            "page_content='they stopped by a clear, bubbling stream to rest and enjoy a picnic lunch, where Nick's humorous storytelling had everyone in stitches, and Aryan demonstrated some impromptu yoga poses by the water's edge. Refreshed and reenergized, they continued their ascent and reached the summit just as the sun/n/nbegan to set, painting the sky with shades of orange and pink that Hamza eagerly captured through his lens. They set up their tents and gathered wood for a bonfire, around which they sat roasting'\n",
            "Chunk 6:\n",
            "page_content='to set, painting the sky with shades of orange and pink that Hamza eagerly captured through his lens. They set up their tents and gathered wood for a bonfire, around which they sat roasting marshmallows and sharing stories under the blanket of stars, with Kabir pointing out constellations and explaining their myths, making the night even more magical. Suddenly, dark clouds rolled in, and a gentle rain began to fall; instead of dampening their spirits, it sparked spontaneous joy as Nick led'\n",
            "Chunk 7:\n",
            "page_content='their myths, making the night even more magical. Suddenly, dark clouds rolled in, and a gentle rain began to fall; instead of dampening their spirits, it sparked spontaneous joy as Nick led everyone into a playful dance in the rain, with Aryan turning it into a fun competition of who could collect the most raindrops in their hands. Zayn ensured the fire stayed alive despite the drizzle, while Hamza took creative, rain-soaked photos that captured the group's carefree happiness./nAs the rain'\n",
            "Chunk 8:\n",
            "page_content='the most raindrops in their hands. Zayn ensured the fire stayed alive despite the drizzle, while Hamza took creative, rain-soaked photos that captured the group's carefree happiness./nAs the rain subsided, they huddled together, wrapped in blankets, sipping hot cocoa and listening to Kabir narrate fascinating stories about explorers who had braved similar terrains. The next morning, they woke up to a breathtaking sunrise, feeling closer than ever after the shared experiences of the previous'\n",
            "Chunk 9:\n",
            "page_content='fascinating stories about explorers who had braved similar terrains. The next morning, they woke up to a breathtaking sunrise, feeling closer than ever after the shared experiences of the previous day. Packing up their campsite, they began their descent, filled with renewed energy and a treasure trove of memories. Along the way down, they reminisced about their favorite moments, with Nick cracking new jokes, Aryan suggesting plans for their next adventure, Hamza snapping final shots of the'\n",
            "Chunk 10:\n",
            "page_content='trove of memories. Along the way down, they reminisced about their favorite moments, with Nick cracking new jokes, Aryan suggesting plans for their next adventure, Hamza snapping final shots of the enchanting scenery, Kabir sharing last bits of intriguing information, and Zayn ensuring everyone stayed safe and together. By the time they/n/nreached the base, all five friends knew that this trek had not only been an exploration of nature but also a celebration of their friendship, each person's'\n",
            "Chunk 11:\n",
            "page_content='safe and together. By the time they/n/nreached the base, all five friends knew that this trek had not only been an exploration of nature but also a celebration of their friendship, each person's unique qualities adding something special to the unforgettable journey.'\n"
          ]
        }
      ]
    },
    {
      "cell_type": "code",
      "source": [
        "vector_store = Chroma.from_documents(documents = chunks, embedding = OpenAIEmbeddings())\n",
        "retriever = vector_store.as_retriever(\n",
        "    search_type=\"similarity\",\n",
        "    search_kwargs={\"k\": 1},\n",
        ")"
      ],
      "metadata": {
        "id": "bKjyVZl17S0v"
      },
      "execution_count": 17,
      "outputs": []
    },
    {
      "cell_type": "code",
      "source": [
        "memory = MemorySaver()"
      ],
      "metadata": {
        "id": "FQkBsD7aVMrC"
      },
      "execution_count": 18,
      "outputs": []
    },
    {
      "cell_type": "code",
      "source": [
        "retriever_tool = create_retriever_tool(\n",
        "    retriever,\n",
        "    \"DocumentRetriever\",\n",
        "    \"A tool to retrieve relevant chunks of documents based on a query.\"\n",
        ")\n",
        "tools = [retriever_tool]"
      ],
      "metadata": {
        "id": "Wzw5NZ-7BBAN"
      },
      "execution_count": 19,
      "outputs": []
    },
    {
      "cell_type": "code",
      "source": [
        "agent_executor = create_react_agent(model, tools, checkpointer=memory)"
      ],
      "metadata": {
        "id": "aGUhIqGWVG5n"
      },
      "execution_count": 20,
      "outputs": []
    },
    {
      "cell_type": "code",
      "source": [
        "config = {\"configurable\": {\"thread_id\": \"abcd\"}}"
      ],
      "metadata": {
        "id": "cDEQfF0bX8Hd"
      },
      "execution_count": 30,
      "outputs": []
    },
    {
      "cell_type": "code",
      "source": [
        "for s in agent_executor.stream(\n",
        "        {\"messages\":[HumanMessage(content=\"Hi! I'am Shiffa\")]},\n",
        "        config = config,\n",
        "\n",
        "):\n",
        "  print(s)\n",
        "  print(\"-----\")"
      ],
      "metadata": {
        "colab": {
          "base_uri": "https://localhost:8080/"
        },
        "id": "f4Y_AaCYYMbJ",
        "outputId": "05b795d2-1c32-4865-d470-52ec0e2ad2b1"
      },
      "execution_count": 31,
      "outputs": [
        {
          "output_type": "stream",
          "name": "stdout",
          "text": [
            "{'agent': {'messages': [AIMessage(content='Hello Shiffa! How can I assist you today?', additional_kwargs={'refusal': None}, response_metadata={'token_usage': {'completion_tokens': 13, 'prompt_tokens': 70, 'total_tokens': 83}, 'model_name': 'gpt-3.5-turbo-0125', 'system_fingerprint': None, 'finish_reason': 'stop', 'logprobs': None}, id='run-e92ab49b-4728-412f-a035-036643430553-0', usage_metadata={'input_tokens': 70, 'output_tokens': 13, 'total_tokens': 83})]}}\n",
            "-----\n"
          ]
        }
      ]
    },
    {
      "cell_type": "code",
      "source": [
        "for s in agent_executor.stream(\n",
        "        {\"messages\":[HumanMessage(content=\"Who was Zayn?\")]},\n",
        "        config = config,\n",
        "\n",
        "):\n",
        "  print(s)\n",
        "  print(\"-----\")"
      ],
      "metadata": {
        "colab": {
          "base_uri": "https://localhost:8080/"
        },
        "id": "aE7bcyWoZgSM",
        "outputId": "f59e9932-d521-4862-de04-1868d7357f02"
      },
      "execution_count": 32,
      "outputs": [
        {
          "output_type": "stream",
          "name": "stdout",
          "text": [
            "{'agent': {'messages': [AIMessage(content='', additional_kwargs={'tool_calls': [{'id': 'call_OSBslhqpNWSKjYFT2YkCxeTr', 'function': {'arguments': '{\"query\":\"Zayn\"}', 'name': 'DocumentRetriever'}, 'type': 'function'}], 'refusal': None}, response_metadata={'token_usage': {'completion_tokens': 18, 'prompt_tokens': 96, 'total_tokens': 114}, 'model_name': 'gpt-3.5-turbo-0125', 'system_fingerprint': None, 'finish_reason': 'tool_calls', 'logprobs': None}, id='run-d7d32f64-bc14-49f0-ab88-563698360f6b-0', tool_calls=[{'name': 'DocumentRetriever', 'args': {'query': 'Zayn'}, 'id': 'call_OSBslhqpNWSKjYFT2YkCxeTr', 'type': 'tool_call'}], usage_metadata={'input_tokens': 96, 'output_tokens': 18, 'total_tokens': 114})]}}\n",
            "-----\n",
            "{'tools': {'messages': [ToolMessage(content='Kabir, Aryan, Nick, Hamza, and Zayn set out early in the morning for their much- awaited trekking adventure, each one excited to escape the hustle of city life and embrace the beauty of nature. Zayn, the dependable leader, took charge of mapping out the trail and ensuring everyone was prepared for the journey ahead. Nick, with his endless jokes and cheerful spirit, kept the group laughing as they walked, turning even the steepest climbs into fun challenges. Aryan, the energetic fitness', name='DocumentRetriever', tool_call_id='call_OSBslhqpNWSKjYFT2YkCxeTr')]}}\n",
            "-----\n",
            "{'agent': {'messages': [AIMessage(content='Zayn was one of the individuals who went on a trekking adventure with Kabir, Aryan, Nick, and Hamza. He was described as the dependable leader who took charge of mapping out the trail and ensuring everyone was prepared for the journey. If you would like to know more about Zayn or any specific details, feel free to ask!', additional_kwargs={'refusal': None}, response_metadata={'token_usage': {'completion_tokens': 74, 'prompt_tokens': 232, 'total_tokens': 306}, 'model_name': 'gpt-3.5-turbo-0125', 'system_fingerprint': None, 'finish_reason': 'stop', 'logprobs': None}, id='run-1f84517d-0027-4446-8ca7-ed89869ab5db-0', usage_metadata={'input_tokens': 232, 'output_tokens': 74, 'total_tokens': 306})]}}\n",
            "-----\n"
          ]
        }
      ]
    },
    {
      "cell_type": "code",
      "source": [
        "for s in agent_executor.stream(\n",
        "        {\"messages\":[HumanMessage(content=\"What did he do during the rain?\")]},\n",
        "        config = config,\n",
        "\n",
        "):\n",
        "  print(s)\n",
        "  print(\"-----\")"
      ],
      "metadata": {
        "colab": {
          "base_uri": "https://localhost:8080/"
        },
        "id": "Y44aNWwBa_Vf",
        "outputId": "42ef182c-24b2-4dda-9f83-b252f13dcad3"
      },
      "execution_count": 33,
      "outputs": [
        {
          "output_type": "stream",
          "name": "stdout",
          "text": [
            "{'agent': {'messages': [AIMessage(content='', additional_kwargs={'tool_calls': [{'id': 'call_HUFrVIl9sY7RHhFm5oWeKiuW', 'function': {'arguments': '{\"query\":\"Zayn during the rain\"}', 'name': 'DocumentRetriever'}, 'type': 'function'}], 'refusal': None}, response_metadata={'token_usage': {'completion_tokens': 21, 'prompt_tokens': 321, 'total_tokens': 342}, 'model_name': 'gpt-3.5-turbo-0125', 'system_fingerprint': None, 'finish_reason': 'tool_calls', 'logprobs': None}, id='run-cd5cbce3-5343-46a5-af53-405d66771d43-0', tool_calls=[{'name': 'DocumentRetriever', 'args': {'query': 'Zayn during the rain'}, 'id': 'call_HUFrVIl9sY7RHhFm5oWeKiuW', 'type': 'tool_call'}], usage_metadata={'input_tokens': 321, 'output_tokens': 21, 'total_tokens': 342})]}}\n",
            "-----\n",
            "{'tools': {'messages': [ToolMessage(content=\"the most raindrops in their hands. Zayn ensured the fire stayed alive despite the drizzle, while Hamza took creative, rain-soaked photos that captured the group's carefree happiness./nAs the rain subsided, they huddled together, wrapped in blankets, sipping hot cocoa and listening to Kabir narrate fascinating stories about explorers who had braved similar terrains. The next morning, they woke up to a breathtaking sunrise, feeling closer than ever after the shared experiences of the previous\", name='DocumentRetriever', tool_call_id='call_HUFrVIl9sY7RHhFm5oWeKiuW')]}}\n",
            "-----\n",
            "{'agent': {'messages': [AIMessage(content=\"During the rain, Zayn ensured that the fire stayed alive despite the drizzle, showcasing his resourcefulness and commitment to keeping the group warm and comfortable. Meanwhile, Hamza took creative, rain-soaked photos that captured the group's carefree happiness during the rainy weather. It seems like Zayn played a key role in maintaining the group's spirits and practical needs during the rain. If you have any more questions or need further information, feel free to ask!\", additional_kwargs={'refusal': None}, response_metadata={'token_usage': {'completion_tokens': 96, 'prompt_tokens': 455, 'total_tokens': 551}, 'model_name': 'gpt-3.5-turbo-0125', 'system_fingerprint': None, 'finish_reason': 'stop', 'logprobs': None}, id='run-598a04c9-ac21-44af-8365-79b66b0c5090-0', usage_metadata={'input_tokens': 455, 'output_tokens': 96, 'total_tokens': 551})]}}\n",
            "-----\n"
          ]
        }
      ]
    },
    {
      "cell_type": "code",
      "source": [
        "for s in agent_executor.stream(\n",
        "        {\"messages\":[HumanMessage(content=\"What happened the next morning?\")]},\n",
        "        config = config,\n",
        "\n",
        "):\n",
        "  print(s)\n",
        "  print(\"-----\")"
      ],
      "metadata": {
        "colab": {
          "base_uri": "https://localhost:8080/"
        },
        "id": "Enj7Id9xbPS4",
        "outputId": "8299df88-c489-44fa-f195-0161eb49bd6f"
      },
      "execution_count": 38,
      "outputs": [
        {
          "output_type": "stream",
          "name": "stdout",
          "text": [
            "{'agent': {'messages': [AIMessage(content='', additional_kwargs={'tool_calls': [{'id': 'call_8U7UPvH4LxWeIw4lj1doXgnA', 'function': {'arguments': '{\"query\":\"next morning\"}', 'name': 'DocumentRetriever'}, 'type': 'function'}], 'refusal': None}, response_metadata={'token_usage': {'completion_tokens': 17, 'prompt_tokens': 1237, 'total_tokens': 1254}, 'model_name': 'gpt-3.5-turbo-0125', 'system_fingerprint': None, 'finish_reason': 'tool_calls', 'logprobs': None}, id='run-889f64a3-e77e-47de-9e52-e182dc533927-0', tool_calls=[{'name': 'DocumentRetriever', 'args': {'query': 'next morning'}, 'id': 'call_8U7UPvH4LxWeIw4lj1doXgnA', 'type': 'tool_call'}], usage_metadata={'input_tokens': 1237, 'output_tokens': 17, 'total_tokens': 1254})]}}\n",
            "-----\n",
            "{'tools': {'messages': [ToolMessage(content='fascinating stories about explorers who had braved similar terrains. The next morning, they woke up to a breathtaking sunrise, feeling closer than ever after the shared experiences of the previous day. Packing up their campsite, they began their descent, filled with renewed energy and a treasure trove of memories. Along the way down, they reminisced about their favorite moments, with Nick cracking new jokes, Aryan suggesting plans for their next adventure, Hamza snapping final shots of the', name='DocumentRetriever', tool_call_id='call_8U7UPvH4LxWeIw4lj1doXgnA')]}}\n",
            "-----\n",
            "{'agent': {'messages': [AIMessage(content='The next morning, after waking up to a breathtaking sunrise, the group felt closer than ever following their shared experiences from the previous day. They packed up their campsite and began their descent with renewed energy and a treasure trove of memories. As they made their way down, they reminisced about their favorite moments, with Nick cracking new jokes, Aryan suggesting plans for their next adventure, and Hamza snapping final shots of the journey. It seems like the group had a memorable and bonding experience during their trekking adventure. If you have any more questions or need additional details, feel free to ask!', additional_kwargs={'refusal': None}, response_metadata={'token_usage': {'completion_tokens': 122, 'prompt_tokens': 1362, 'total_tokens': 1484}, 'model_name': 'gpt-3.5-turbo-0125', 'system_fingerprint': None, 'finish_reason': 'stop', 'logprobs': None}, id='run-92e828bc-1ac6-4335-928a-2acfb488509c-0', usage_metadata={'input_tokens': 1362, 'output_tokens': 122, 'total_tokens': 1484})]}}\n",
            "-----\n"
          ]
        }
      ]
    },
    {
      "cell_type": "code",
      "source": [
        "for s in agent_executor.stream(\n",
        "        {\"messages\":[HumanMessage(content=\"Who suggested plans for the group's next adventure?\")]},\n",
        "        config = config,\n",
        "\n",
        "):\n",
        "  print(s)\n",
        "  print(\"-----\")"
      ],
      "metadata": {
        "colab": {
          "base_uri": "https://localhost:8080/"
        },
        "id": "rLsFu3uubsr4",
        "outputId": "6b2f8aca-05e2-44eb-83d1-30150a656d51"
      },
      "execution_count": 40,
      "outputs": [
        {
          "output_type": "stream",
          "name": "stdout",
          "text": [
            "{'agent': {'messages': [AIMessage(content=\"Kabir suggested plans for the group's next adventure. He shared stories about explorers who had braved similar terrains, inspiring discussions about future adventures. Kabir's enthusiasm for exploration likely sparked excitement within the group for their upcoming endeavors. If you have any more questions or need additional details, feel free to let me know!\", additional_kwargs={'refusal': None}, response_metadata={'token_usage': {'completion_tokens': 68, 'prompt_tokens': 1581, 'total_tokens': 1649}, 'model_name': 'gpt-3.5-turbo-0125', 'system_fingerprint': None, 'finish_reason': 'stop', 'logprobs': None}, id='run-2cf16799-c078-4016-aac9-ce160b67ec1e-0', usage_metadata={'input_tokens': 1581, 'output_tokens': 68, 'total_tokens': 1649})]}}\n",
            "-----\n"
          ]
        }
      ]
    },
    {
      "cell_type": "code",
      "source": [
        "for s in agent_executor.stream(\n",
        "        {\"messages\":[HumanMessage(content=\"Who was the funny character?\")]},\n",
        "        config = config,\n",
        "\n",
        "):\n",
        "  print(s)\n",
        "  print(\"-----\")"
      ],
      "metadata": {
        "colab": {
          "base_uri": "https://localhost:8080/"
        },
        "id": "SiNAMnCy7Lv3",
        "outputId": "661f4f61-2e44-40d3-86db-ffab8bd89161"
      },
      "execution_count": 39,
      "outputs": [
        {
          "output_type": "stream",
          "name": "stdout",
          "text": [
            "{'agent': {'messages': [AIMessage(content=\"Nick was the funny character in the group. He kept everyone laughing with his endless jokes and cheerful spirit during their trekking adventure. Nick's humor added a lighthearted and fun element to the journey, making it enjoyable for the group. If you have any more questions or need further information, feel free to ask!\", additional_kwargs={'refusal': None}, response_metadata={'token_usage': {'completion_tokens': 67, 'prompt_tokens': 1497, 'total_tokens': 1564}, 'model_name': 'gpt-3.5-turbo-0125', 'system_fingerprint': None, 'finish_reason': 'stop', 'logprobs': None}, id='run-5f627dc7-98bd-4bf2-823c-8c6b59ff1268-0', usage_metadata={'input_tokens': 1497, 'output_tokens': 67, 'total_tokens': 1564})]}}\n",
            "-----\n"
          ]
        }
      ]
    }
  ]
}